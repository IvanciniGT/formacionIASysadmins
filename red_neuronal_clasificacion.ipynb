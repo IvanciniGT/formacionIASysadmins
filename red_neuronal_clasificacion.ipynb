{
  "cells": [
    {
      "cell_type": "code",
      "execution_count": null,
      "metadata": {
        "id": "fUnGcT2PoWqR"
      },
      "outputs": [],
      "source": [
        "# Importamos una función de una libreria llamada sklearn\n",
        "# Es una librería mu yimportante en el mundo del machine learning.. que incorpora muchas funciones de alto nivel ya precreadas.\n",
        "# Importamos en concreto la función: fetch_openml\n",
        "# Nos permite cargar conjuntos de datos opensource para machine learning: MNIST (BBDD con 70000 images de dígitos .. y el dígito que está representado en la foto)\n",
        "from sklearn.datasets import fetch_openml"
      ]
    },
    {
      "cell_type": "code",
      "execution_count": null,
      "metadata": {
        "colab": {
          "base_uri": "https://localhost:8080/"
        },
        "id": "Gj0pvjxT_v7G",
        "outputId": "f1fcc089-59be-4def-beaf-92f1fed86376"
      },
      "outputs": [
        {
          "name": "stderr",
          "output_type": "stream",
          "text": [
            "/usr/local/lib/python3.10/dist-packages/sklearn/datasets/_openml.py:968: FutureWarning: The default value of `parser` will change from `'liac-arff'` to `'auto'` in 1.4. You can set `parser='auto'` to silence this warning. Therefore, an `ImportError` will be raised from 1.4 if the dataset is dense and pandas is not installed. Note that the pandas parser may return different data types. See the Notes Section in fetch_openml's API doc for details.\n",
            "  warn(\n"
          ]
        },
        {
          "data": {
            "text/plain": [
              "(70000, 784)"
            ]
          },
          "execution_count": 2,
          "metadata": {},
          "output_type": "execute_result"
        }
      ],
      "source": [
        "datos = fetch_openml('mnist_784', as_frame=False, cache=False) # Fotos de 28 pixels, por 28 pixels...\n",
        "datos.data.shape # Imprimir por pantalla, las dimensiones de mi conjunto de datos."
      ]
    },
    {
      "cell_type": "code",
      "execution_count": null,
      "metadata": {
        "colab": {
          "base_uri": "https://localhost:8080/"
        },
        "id": "GSlthyqpo8k6",
        "outputId": "d99d7ad7-2d4f-40a5-aa00-ae20911a69b9"
      },
      "outputs": [
        {
          "data": {
            "text/plain": [
              "(70000,)"
            ]
          },
          "execution_count": 3,
          "metadata": {},
          "output_type": "execute_result"
        }
      ],
      "source": [
        "# Tenemos 70.000 fotos... De cada una 784 pixels\n",
        "# Dentro del data, tenemos las fotos... los 784 pixels de cada foto (para cada pixel, un valor numérico 0-255)\n",
        "#datos.data\n",
        "# Dentro de target, tenemos los números (dígitos) representados en cada foto\n",
        "datos.target.shape\n"
      ]
    },
    {
      "cell_type": "code",
      "execution_count": null,
      "metadata": {
        "colab": {
          "base_uri": "https://localhost:8080/"
        },
        "id": "EclCQdfTo8wM",
        "outputId": "c5bb6696-6f5a-4044-d3b4-a3478e5dbdcf"
      },
      "outputs": [
        {
          "data": {
            "text/plain": [
              "array(['5', '0', '4', ..., '4', '5', '6'], dtype=object)"
            ]
          },
          "execution_count": 4,
          "metadata": {},
          "output_type": "execute_result"
        }
      ],
      "source": [
        "# Tengo 70000 datos de los nñumeros que hay en cada foto\n",
        "datos.target # Veo los datos... algunos de lllos.. no los 70000"
      ]
    },
    {
      "cell_type": "code",
      "execution_count": null,
      "metadata": {
        "id": "B1sRMOufo84s"
      },
      "outputs": [],
      "source": [
        "# Los pixels de cada foto, los vamos a meter en una tabla... que vamos a llamar variable X\n",
        "# Los dígitos asociados a cada fot, los voy a meter en una variable que llamaré Y\n",
        "x = datos.data.astype('float32') # Los datos de los pixels, los quiero como decimales (0-255)\n",
        "y = datos.target.astype('int64') # Los datos de los dígitos, los quiero como enteros:  Números del 0 al 9"
      ]
    },
    {
      "cell_type": "code",
      "execution_count": null,
      "metadata": {
        "id": "JJpFy7iZo9A9"
      },
      "outputs": [],
      "source": [
        "# Como los valores de Y están en el rango 0-9... y las X 0-255... Al hacer cuentas podemos tener valores muy chicos 1/255\n",
        "# Me interesan los datos en el mismo orden de magnitud\n",
        "x = x / 255.0 # De esta forma, los valores de los pixels quedan entre 0-1... que es más similar al orden de magnitud en el que tengo los dígitos 0-9"
      ]
    },
    {
      "cell_type": "code",
      "execution_count": null,
      "metadata": {
        "id": "9SSoHS4auLMO"
      },
      "outputs": [],
      "source": [
        "# Dividir los datos en 2 grupos... Datos de entrenamiento y datos de prueba\n",
        "# Voy a querer entrenar al programa con una parte de los datos...\n",
        "# Y voy a ver que tal funciona ese programa cuando lo aplico a la otra parte de los datos...\n",
        "# De esta forma evitamos ese concepto: Overfitting: Sobreajuste... que el programa que se va a crear funcione bien pero solo para los datos con los que ha sido entrenado\n"
      ]
    },
    {
      "cell_type": "code",
      "execution_count": null,
      "metadata": {
        "id": "Ti0gD4OSuR5r"
      },
      "outputs": [],
      "source": [
        "from sklearn.model_selection import train_test_split\n",
        "x_entrenamiento, x_prueba, y_entrenamiento, y_prueba = train_test_split(x,y, test_size=0.25) # Reparto aleatorio de los datos... De los 70000"
      ]
    },
    {
      "cell_type": "code",
      "execution_count": null,
      "metadata": {
        "colab": {
          "base_uri": "https://localhost:8080/"
        },
        "id": "m0wsIir8vGLK",
        "outputId": "9c09bc77-c5c4-48d9-ad1d-64d6ed5dd0ef"
      },
      "outputs": [
        {
          "data": {
            "text/plain": [
              "(52500, 784)"
            ]
          },
          "execution_count": 8,
          "metadata": {},
          "output_type": "execute_result"
        }
      ],
      "source": [
        "x_entrenamiento.shape # Quiero ver cuantos datos de entrenamiento tengo"
      ]
    },
    {
      "cell_type": "code",
      "execution_count": null,
      "metadata": {
        "id": "4xc4hAdXvXmq"
      },
      "outputs": [],
      "source": [
        "import matplotlib.pyplot as plt # Esta libreria nos permite pintas imagenes en python\n",
        "def imprimir_imagenes(x, y): # Me creo una función que usa esa librería y toma 5 fotos... con su caracter asociado... y los pinta por tantalla\n",
        "    for i, (img, y) in enumerate(zip(x[:5].reshape(5, 28, 28), y[:5])):\n",
        "        plt.subplot(151 + i) # Pinta la imagen 151 pixels más a la derecha que la anterior\n",
        "        plt.imshow(img) # Pînta la imagen\n",
        "        plt.xticks([]) # No poner en el grafico marcas en los ejes\n",
        "        plt.yticks([])\n",
        "        plt.title(y)   # Pone el caracter como leyenda de cada foto"
      ]
    },
    {
      "cell_type": "code",
      "execution_count": null,
      "metadata": {
        "colab": {
          "base_uri": "https://localhost:8080/",
          "height": 144
        },
        "id": "Ge8niOz-vgNr",
        "outputId": "54ff3c7a-6bb1-48c2-9bac-e72c68c7f094"
      },
      "outputs": [
        {
          "data": {
            "image/png": "[encoded data removed]",
            "text/plain": [
              "<Figure size 640x480 with 5 Axes>"
            ]
          },
          "metadata": {},
          "output_type": "display_data"
        }
      ],
      "source": [
        "imprimir_imagenes(x_entrenamiento, y_entrenamiento)"
      ]
    },
    {
      "cell_type": "code",
      "execution_count": null,
      "metadata": {
        "id": "kyqClx-nw7tL"
      },
      "outputs": [],
      "source": [
        "# Montar una red neuronal\n",
        "# Lo primero importaar la libreria que nos ayuda con redes neuronales\n",
        "import torch\n",
        "from torch import nn\n",
        "import torch.nn.functional as F"
      ]
    },
    {
      "cell_type": "code",
      "execution_count": null,
      "metadata": {
        "id": "rMs3831IxMWX"
      },
      "outputs": [],
      "source": [
        "# Si hay disponible una GPU, úsala\n",
        "device = 'cuda' if torch.cuda.is_available() else 'cpu'"
      ]
    },
    {
      "cell_type": "code",
      "execution_count": null,
      "metadata": {
        "id": "BbxDpZezxWjw"
      },
      "outputs": [],
      "source": [
        "# Definir la arquitectura de la red neuronal\n"
      ]
    },
    {
      "cell_type": "code",
      "execution_count": null,
      "metadata": {
        "colab": {
          "base_uri": "https://localhost:8080/"
        },
        "id": "gVCW8F3N_v7g",
        "outputId": "328a1ce2-1507-4208-89ab-2115d3ff784c"
      },
      "outputs": [
        {
          "data": {
            "text/plain": [
              "(784, 98, 10)"
            ]
          },
          "execution_count": 14,
          "metadata": {},
          "output_type": "execute_result"
        }
      ],
      "source": [
        "import numpy as np\n",
        "\n",
        "mnist_dim = x.shape[1]  # En primera capa tendremos 784 datos... Cada pixel\n",
        "hidden_dim = int(mnist_dim/8) # En segunda capa tenemos 784/8 = 98 neuronas de aprendizaje\n",
        "output_dim = len(np.unique(datos.target)) # Al final quiero 10 neuronas ( los distintos - unicos- valores que hay en el target... los digitos que hay representados: 0-9)\n",
        "mnist_dim, hidden_dim, output_dim # Los veo por pantalla"
      ]
    },
    {
      "cell_type": "code",
      "execution_count": null,
      "metadata": {
        "id": "vGdqYGOWyTiX"
      },
      "outputs": [],
      "source": [
        "# Quiero una red neuronal para clasificacion\n",
        "\n",
        "class MiArquitecturaDeRed(nn.Module):\n",
        "    def __init__(\n",
        "            self,\n",
        "            input_dim=mnist_dim,    # Aqui es donde configuro la arquitectura de la red Cuantas entradas\n",
        "            hidden_dim=hidden_dim,  # Cuantas neuronas en capa oculta\n",
        "            output_dim=output_dim,  # Cuantas salidas (casificaciones diferentes)\n",
        "            dropout=0.5,            # Entre iteracion e iteración (cada vez que calcules numeritos, deja de usar la mitad de las neuronas)\n",
        "                                    # Para evitar que algunas neuronas se vuelvan vagas... wue no aprendan\n",
        "    ):\n",
        "        super(MiArquitecturaDeRed, self).__init__()\n",
        "        self.dropout = nn.Dropout(dropout)              # Activamos ese hecho de desactivar el 50% de las nueronas en cada entrenamiento\n",
        "        self.hidden = nn.Linear(input_dim, hidden_dim)  # conecto todas las variables de entrada (784 pixels) a las neuronas de la capa de aprendizaje (98)\n",
        "        self.output = nn.Linear(hidden_dim, output_dim) # Conecto todas las salidas de las 98 neuronas de aprendizaje a las 10 posibles salidas\n",
        "\n",
        "    def forward(self, x, **kwargs):   # Aquí configuramos la función de activación de cada neurona\n",
        "        x = F.relu(self.hidden(x))    # Las neuronas de la capa oculta tienen una función de activación de tipo RELU. APRENDIZAJE\n",
        "        x = self.dropout(x)\n",
        "        x = F.softmax(self.output(x), dim=-1) # Las neuronas de claficicación (10) tienen una función de activación de tipo SOFTMAX. CLASIFICACIONES\n",
        "        return x"
      ]
    },
    {
      "cell_type": "code",
      "execution_count": null,
      "metadata": {
        "id": "A7u_3l18hgw9"
      },
      "outputs": [],
      "source": [
        "import subprocess\n",
        "\n",
        "try:\n",
        "    import google.colab\n",
        "    subprocess.run(['python', '-m', 'pip', 'install', 'skorch']) # Instala la libreria skorch en el entorno\n",
        "except ImportError:\n",
        "    pass"
      ]
    },
    {
      "cell_type": "code",
      "execution_count": null,
      "metadata": {
        "id": "rEkYE7J9diVQ"
      },
      "outputs": [],
      "source": [
        "# Aqui ahora, que ya definido la arquitectura (la forma) que tiene mi red\n",
        "# indico como debe entrenarse\n",
        "from skorch import NeuralNetClassifier # Quiero poder usar entrenamientos especializados en Clasificación de datos\n",
        "\n",
        "torch.manual_seed(0) # El entrenamiento de la red, empieza con unos valores de los parametros internos aleatorios\n",
        "                     # Habitualmente usamos una SEMILLA a la hora de generar los valores aleatorios\n",
        "                     # Los programas informáticos no generan números aleatorios... realmente son secuencias de números pseudoaleatorios\n",
        "                     # Al poner una semilla, nos aseguramos que siemrpe se generen los mismo valores \"aleatorios\" cuando comienza el entrenamiento.\n",
        "                     # Si ejecuto este programa 20 veces... Las 20 veces vamos a usar los mismos números \"aleatorios\"\n",
        "                     # Importa una mierda el número que ponga ahi. Lo único importante es mantener ese número constante entre ejecuciones\n",
        "                     # Esto me permite replicar resultados entre ejecuciones o entornos\n",
        "\n",
        "mi_red = NeuralNetClassifier( # Quiero un entrenamiento para clasificación de datos\n",
        "    MiArquitecturaDeRed,   # para una nueva red que tenga esa arquitectura que he definido arriba\n",
        "    max_epochs=20,         # Quiero 20 iteraciones de entrenamiento\n",
        "    lr=0.1,                # Learning rate: Tiene que ver con la velocidad con la que cambian los parametros entre una iteración y otra 0.0001 - 0.1\n",
        "    device=device,         # Quiero que entrenes con cpu o gpu\n",
        ")"
      ]
    },
    {
      "cell_type": "code",
      "execution_count": null,
      "metadata": {
        "colab": {
          "base_uri": "https://localhost:8080/"
        },
        "id": "3LoYXn_aiGEX",
        "outputId": "8a5d6955-4973-4130-eeb3-3b9f3d2bf5c7"
      },
      "outputs": [
        {
          "name": "stdout",
          "output_type": "stream",
          "text": [
            "  epoch    train_loss    valid_acc    valid_loss     dur\n",
            "-------  ------------  -----------  ------------  ------\n",
            "      1        \u001b[36m0.8247\u001b[0m       \u001b[32m0.8939\u001b[0m        \u001b[35m0.3940\u001b[0m  1.7797\n",
            "      2        \u001b[36m0.4294\u001b[0m       \u001b[32m0.9152\u001b[0m        \u001b[35m0.3021\u001b[0m  1.0484\n",
            "      3        \u001b[36m0.3607\u001b[0m       \u001b[32m0.9248\u001b[0m        \u001b[35m0.2625\u001b[0m  1.3864\n",
            "      4        \u001b[36m0.3180\u001b[0m       \u001b[32m0.9327\u001b[0m        \u001b[35m0.2323\u001b[0m  1.5059\n",
            "      5        \u001b[36m0.2912\u001b[0m       \u001b[32m0.9388\u001b[0m        \u001b[35m0.2107\u001b[0m  1.1401\n",
            "      6        \u001b[36m0.2710\u001b[0m       \u001b[32m0.9416\u001b[0m        \u001b[35m0.1963\u001b[0m  1.0634\n",
            "      7        \u001b[36m0.2571\u001b[0m       \u001b[32m0.9456\u001b[0m        \u001b[35m0.1854\u001b[0m  1.0685\n",
            "      8        \u001b[36m0.2426\u001b[0m       \u001b[32m0.9473\u001b[0m        \u001b[35m0.1741\u001b[0m  1.0292\n",
            "      9        \u001b[36m0.2330\u001b[0m       \u001b[32m0.9504\u001b[0m        \u001b[35m0.1657\u001b[0m  1.0737\n",
            "     10        \u001b[36m0.2227\u001b[0m       \u001b[32m0.9529\u001b[0m        \u001b[35m0.1566\u001b[0m  1.0629\n",
            "     11        \u001b[36m0.2133\u001b[0m       \u001b[32m0.9536\u001b[0m        \u001b[35m0.1515\u001b[0m  1.0395\n",
            "     12        \u001b[36m0.2087\u001b[0m       \u001b[32m0.9557\u001b[0m        \u001b[35m0.1446\u001b[0m  1.1109\n",
            "     13        \u001b[36m0.2006\u001b[0m       \u001b[32m0.9570\u001b[0m        \u001b[35m0.1397\u001b[0m  1.0296\n",
            "     14        \u001b[36m0.1961\u001b[0m       0.9569        \u001b[35m0.1378\u001b[0m  1.2149\n",
            "     15        \u001b[36m0.1907\u001b[0m       \u001b[32m0.9581\u001b[0m        \u001b[35m0.1350\u001b[0m  1.4423\n",
            "     16        \u001b[36m0.1848\u001b[0m       \u001b[32m0.9593\u001b[0m        \u001b[35m0.1311\u001b[0m  1.2834\n",
            "     17        \u001b[36m0.1818\u001b[0m       \u001b[32m0.9603\u001b[0m        \u001b[35m0.1289\u001b[0m  1.1123\n",
            "     18        \u001b[36m0.1759\u001b[0m       \u001b[32m0.9606\u001b[0m        \u001b[35m0.1241\u001b[0m  1.0579\n",
            "     19        \u001b[36m0.1738\u001b[0m       \u001b[32m0.9626\u001b[0m        \u001b[35m0.1223\u001b[0m  1.0922\n",
            "     20        \u001b[36m0.1711\u001b[0m       0.9617        \u001b[35m0.1205\u001b[0m  1.1269\n"
          ]
        },
        {
          "data": {
            "text/plain": [
              "<class 'skorch.classifier.NeuralNetClassifier'>[initialized](\n",
              "  module_=MiArquitecturaDeRed(\n",
              "    (dropout): Dropout(p=0.5, inplace=False)\n",
              "    (hidden): Linear(in_features=784, out_features=98, bias=True)\n",
              "    (output): Linear(in_features=98, out_features=10, bias=True)\n",
              "  ),\n",
              ")"
            ]
          },
          "execution_count": 20,
          "metadata": {},
          "output_type": "execute_result"
        }
      ],
      "source": [
        "# Entrena la red con los datos que tengo...\n",
        "# Inventate valores (80000 valores), para los parámetros internos...\n",
        "# Ve probando con ellos, a ver si va bien la cosa y aciertas mucho...\n",
        "# Ve variando esos valores (casí 80000 valores) hasta 20 veces (a buen ritmo)\n",
        "# Con nuestras 52500 fotos\n",
        "mi_red.fit(x_entrenamiento, y_entrenamiento) # Esto es lo que tardará la vida"
      ]
    },
    {
      "cell_type": "code",
      "execution_count": null,
      "metadata": {
        "colab": {
          "base_uri": "https://localhost:8080/"
        },
        "id": "v01BH5xIkqSM",
        "outputId": "c6b80fc2-da9e-42aa-be3a-f1c3cbb5bb9c"
      },
      "outputs": [
        {
          "data": {
            "text/plain": [
              "0.962"
            ]
          },
          "execution_count": 22,
          "metadata": {},
          "output_type": "execute_result"
        }
      ],
      "source": [
        "# Llegados a este punto, ya tengo entrenada la red neuronal. Ya es \"Experta\" en reconocer dígitos en fotos.\n",
        "# Parece que acierta muchas fotos... El ultimo datos es el 96,1% de las fotos.. eso si... sobre las propias fotos que ha usado para entrenarse.. ESO ES FACIL\n",
        "# Me interesa probar esto con otro conjunto de fotos... a ver que tal... Y aqui viene el trozo de fotos que habiamos reservado para pruebas\n",
        "\n",
        "from sklearn.metrics import accuracy_score\n",
        "# Pongo la red a funcionar\n",
        "y_estimada = mi_red.predict(x_prueba) # Yo creo que en esta foto hay un 7... o un 8... o un 5\n",
        "# Comparar las predicciones/estimaciones con los datos reales, que los conocía y_prueba\n",
        "accuracy_score(y_prueba, y_estimada)"
      ]
    },
    {
      "cell_type": "code",
      "execution_count": null,
      "metadata": {
        "id": "oNwrwakamtEj"
      },
      "outputs": [],
      "source": [
        "# En los 0 segundos que ha tardado el punto anterior, lo primero que ha hecho ha sido coger las 17500 fotos de pruebas,\n",
        "# Mirarlas... y decirme qué digito hay en ellas.\n",
        "# De las fotos de prueba ha acertado en el 96,2%... LO PETA"
      ]
    },
    {
      "cell_type": "code",
      "execution_count": null,
      "metadata": {
        "colab": {
          "base_uri": "https://localhost:8080/",
          "height": 144
        },
        "id": "55AsYSUZnJCA",
        "outputId": "a9021812-4260-4c24-ea34-ea250d76ed90"
      },
      "outputs": [
        {
          "data": {
            "image/png": "[encoded data removed]",
            "text/plain": [
              "<Figure size 640x480 with 5 Axes>"
            ]
          },
          "metadata": {},
          "output_type": "display_data"
        }
      ],
      "source": [
        "# Vamos a mirar algunas de las que ha fallado\n",
        "filtro_erroneas = y_prueba != y_estimada # Esto me da un array / lista gigante de True, False\n",
        "                  # 7            7   ->    False\n",
        "                  # 6            8   ->    True\n",
        "                  # 5            5   ->    False\n",
        "                  # 4            3   ->    True\n",
        "fotos_no_acertadas   = x_prueba[filtro_erroneas]\n",
        "digitos_no_acertadas = y_prueba[filtro_erroneas]\n",
        "imprimir_imagenes(fotos_no_acertadas, digitos_no_acertadas)"
      ]
    }
  ],
  "metadata": {
    "accelerator": "GPU",
    "colab": {
      "gpuType": "T4",
      "provenance": []
    },
    "kernelspec": {
      "display_name": "Python 3",
      "name": "python3"
    },
    "language_info": {
      "name": "python"
    }
  },
  "nbformat": 4,
  "nbformat_minor": 0
}
